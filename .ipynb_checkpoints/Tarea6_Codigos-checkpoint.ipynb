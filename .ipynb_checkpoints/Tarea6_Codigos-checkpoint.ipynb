{
 "cells": [
  {
   "cell_type": "code",
   "execution_count": 1,
   "id": "25aea65d",
   "metadata": {},
   "outputs": [],
   "source": [
    "import pandas as pd\n",
    "import sympy as sp\n",
    "import numpy as np"
   ]
  },
  {
   "cell_type": "code",
   "execution_count": 2,
   "id": "5cc5c42e",
   "metadata": {},
   "outputs": [],
   "source": [
    "def Lx(i:int , values: list): \n",
    "    \"\"\"\n",
    "    Esta función calcula el coeficiente de gragange L_i(x) de forma simbólica \n",
    "    para la imterpolación de Lagrange.\n",
    "    \n",
    "    Parámetros:\n",
    "        i = número de índice de L_i(x) po obtener\n",
    "        x = lista que contiene los datos experimentales para obtener L_i(x)\n",
    "    Salida:\n",
    "        Regresa un polinomio de grado n-1, con n el número de datos. Este \n",
    "        polinomio será el término L_i(x) en la interpolación de Lagrange.\n",
    "    \"\"\"\n",
    "    \n",
    "    n = len(values)# Asigna el número de datos\n",
    "    L, x , y = sp.symbols('L, x, y') #Creamos las variables para el cálculo simbólico\n",
    "    \n",
    "    #Inicializamos las variables\n",
    "    y = 1\n",
    "    L = 1\n",
    "\n",
    "    #Este ciclo calcula L_i(x) haciendo los productos en la fórmula\n",
    "    for j in range(n):\n",
    "        if j != i-1:\n",
    "            y = (x - values[j])/float((values[i-1] - values[j]))\n",
    "            L *= y\n",
    "    #Expandimos el resultado haciendo todos los productos\n",
    "    L = sp.expand(L)\n",
    "    return L"
   ]
  },
  {
   "cell_type": "code",
   "execution_count": 5,
   "id": "0eaee88b",
   "metadata": {},
   "outputs": [
    {
     "ename": "SyntaxError",
     "evalue": "(unicode error) 'unicodeescape' codec can't decode bytes in position 2-3: truncated \\UXXXXXXXX escape (<ipython-input-5-472ae91e2b0e>, line 7)",
     "output_type": "error",
     "traceback": [
      "\u001b[1;36m  File \u001b[1;32m\"<ipython-input-5-472ae91e2b0e>\"\u001b[1;36m, line \u001b[1;32m7\u001b[0m\n\u001b[1;33m    ruta = 'C:\\Users\\cesar.avila\\Documents\\IPN\\Semestre 7\\\u001b[0m\n\u001b[1;37m           ^\u001b[0m\n\u001b[1;31mSyntaxError\u001b[0m\u001b[1;31m:\u001b[0m (unicode error) 'unicodeescape' codec can't decode bytes in position 2-3: truncated \\UXXXXXXXX escape\n"
     ]
    }
   ],
   "source": [
    "# Definimos variables para la obtendión del polinomio y los inicializamos\n",
    "g, x, y = sp.symbols('g, x, y')\n",
    "g = 0.\n",
    "\n",
    "# Importamos los datos de un archivo txt\n",
    "\n",
    "ruta = 'C:\\Users\\cesar.avila\\Documents\\IPN\\Semestre 7\\/\n",
    "        Física Numérica\\Tareas\\Tarea6\\DatosLagrange.txt' #Ruta completa del archivo\n",
    "data = pd.read_csv(r,header=0,delim_whitespace = True)\n",
    "\n",
    "# Recopilamos los datos de las dos columnas\n",
    "E = data.iloc[:,0]\n",
    "f = data.iloc[:,1]\n",
    "\n",
    "\n",
    "# Transformamos los datos a dos arreglos x,y para su mejor manejo\n",
    "data_x = np.float64(E)\n",
    "data_y = np.float64(f)\n",
    "\n",
    "#Número de datos\n",
    "n = len(data_x)\n",
    "\n",
    "#Calculamos el polinomio completo de Lagrange de grado n-1\n",
    "for i in range(n):\n",
    "    g += data_y[i]*Lx(i+1,data_x)\n",
    "\n"
   ]
  },
  {
   "cell_type": "code",
   "execution_count": 4,
   "id": "4e217832",
   "metadata": {},
   "outputs": [
    {
     "name": "stdout",
     "output_type": "stream",
     "text": [
      "                        8                         7                        6  \n",
      "- 1.15581968253968e-13⋅x  + 9.98107428571427e-11⋅x  - 3.54436266666667e-8⋅x  +\n",
      "\n",
      "                      5                 4                       3             \n",
      " 6.63364266666666e-6⋅x  - 0.0006944452⋅x  + 0.0395631066666667⋅x  - 1.09353836\n",
      "\n",
      "        2                            \n",
      "507937⋅x  + 11.4094238095238⋅x + 10.6\n"
     ]
    }
   ],
   "source": [
    "sp.pprint(g)"
   ]
  },
  {
   "cell_type": "code",
   "execution_count": null,
   "id": "221faf94",
   "metadata": {},
   "outputs": [],
   "source": []
  }
 ],
 "metadata": {
  "kernelspec": {
   "display_name": "Python 3",
   "language": "python",
   "name": "python3"
  },
  "language_info": {
   "codemirror_mode": {
    "name": "ipython",
    "version": 3
   },
   "file_extension": ".py",
   "mimetype": "text/x-python",
   "name": "python",
   "nbconvert_exporter": "python",
   "pygments_lexer": "ipython3",
   "version": "3.8.8"
  }
 },
 "nbformat": 4,
 "nbformat_minor": 5
}

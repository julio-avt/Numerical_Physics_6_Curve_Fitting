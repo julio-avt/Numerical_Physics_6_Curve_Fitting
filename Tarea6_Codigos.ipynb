{
 "cells": [
  {
   "cell_type": "markdown",
   "id": "ce07806e",
   "metadata": {},
   "source": [
    "# Ejercicio 1"
   ]
  },
  {
   "cell_type": "code",
   "execution_count": 2,
   "id": "5b07f284",
   "metadata": {},
   "outputs": [],
   "source": [
    "import pandas as pd\n",
    "import sympy as sp\n",
    "import numpy as np"
   ]
  },
  {
   "cell_type": "code",
   "execution_count": 3,
   "id": "86cf3d33",
   "metadata": {},
   "outputs": [],
   "source": [
    "def Lx(i:int , values: list): \n",
    "    \"\"\"\n",
    "    Esta función calcula el coeficiente de gragange L_i(x) de forma simbólica \n",
    "    para la imterpolación de Lagrange.\n",
    "    \n",
    "    Parámetros:\n",
    "        i = número de índice de L_i(x) po obtener\n",
    "        x = lista que contiene los datos experimentales para obtener L_i(x)\n",
    "    Salida:\n",
    "        Regresa un polinomio de grado n-1, con n el número de datos. Este \n",
    "        polinomio será el término L_i(x) en la interpolación de Lagrange.\n",
    "    \"\"\"\n",
    "    \n",
    "    n = len(values)# Asigna el número de datos\n",
    "    L, x , y = sp.symbols('L, x, y') #Creamos las variables para el cálculo simbólico\n",
    "    \n",
    "    #Inicializamos las variables\n",
    "    y = 1\n",
    "    L = 1\n",
    "\n",
    "    #Este ciclo calcula L_i(x) haciendo los productos en la fórmula\n",
    "    for j in range(n):\n",
    "        if j != i-1:\n",
    "            y = (x - values[j])/float((values[i-1] - values[j]))\n",
    "            L *= y\n",
    "    #Expandimos el resultado haciendo todos los productos\n",
    "    L = sp.expand(L)\n",
    "    return L"
   ]
  },
  {
   "cell_type": "code",
   "execution_count": 4,
   "id": "0df024d4",
   "metadata": {},
   "outputs": [],
   "source": [
    "# Importamos los datos de un archivo txt\n",
    "data = pd.read_csv(r'C:\\Users\\cesar.avila\\Documents\\IPN\\Semestre 7\\Física Numérica\\Tareas\\Tarea6\\DatosLagrange.txt',\n",
    "                   header=0,delim_whitespace = True)\n",
    "\n",
    "# Recopilamos los datos de las dos columnas\n",
    "E = data.iloc[:,0]\n",
    "f = data.iloc[:,1]\n",
    "\n",
    "# Transformamos los datos a dos arreglos x,y para su mejor manejo\n",
    "data_x = np.float64(E)\n",
    "data_y = np.float64(f)\n",
    "\n",
    "#Número de datos\n",
    "n = len(data_x)\n",
    "\n",
    "# Definimos variables para la obtendión del polinomio y los inicializamos\n",
    "g, x = sp.symbols('g, x')\n",
    "g = 0.\n",
    "\n",
    "#Calculamos el polinomio completo de Lagrange de grado n-1\n",
    "for i in range(n):\n",
    "    g += data_y[i]*Lx(i+1,data_x)"
   ]
  },
  {
   "cell_type": "code",
   "execution_count": 5,
   "id": "772a4b21",
   "metadata": {
    "scrolled": true
   },
   "outputs": [
    {
     "name": "stdout",
     "output_type": "stream",
     "text": [
      "                        8                         7                        6  \n",
      "- 1.15581968253968e-13⋅x  + 9.98107428571427e-11⋅x  - 3.54436266666667e-8⋅x  +\n",
      "\n",
      "                      5                 4                       3             \n",
      " 6.63364266666666e-6⋅x  - 0.0006944452⋅x  + 0.0395631066666667⋅x  - 1.09353836\n",
      "\n",
      "        2                            \n",
      "507937⋅x  + 11.4094238095238⋅x + 10.6\n"
     ]
    }
   ],
   "source": [
    "sp.pprint(g)"
   ]
  },
  {
   "cell_type": "code",
   "execution_count": 6,
   "id": "23e3bd12",
   "metadata": {},
   "outputs": [],
   "source": [
    "import numpy.polynomial.polynomial as poly\n",
    "import matplotlib.pyplot as plt"
   ]
  },
  {
   "cell_type": "code",
   "execution_count": 7,
   "id": "5d96463c",
   "metadata": {},
   "outputs": [
    {
     "data": {
      "image/png": "[encoded data removed]",
      "text/plain": [
       "<Figure size 720x576 with 1 Axes>"
      ]
     },
     "metadata": {
      "needs_background": "light"
     },
     "output_type": "display_data"
    }
   ],
   "source": [
    "#Convertimos el g a un objeto tipo polinomio y guardamos sus coeficientes en una lista\n",
    "p = sp.Poly(g)\n",
    "coef = p.rep.rep\n",
    "\n",
    "#Creamos el polinomio con numpy para un mejor manejo\n",
    "pol = poly.Polynomial(coef[::-1])\n",
    "\n",
    "#Creamos un arrgelo que contendrá los puntos a ser evaluados  en el eje x\n",
    "valores_E = np.arange(-2.0, 205, 5) #El último parámetro contiene la longitud de los pasos\n",
    "\n",
    "#Graficamos el polinomio y los ptos experimentales\n",
    "fig = plt.figure(figsize = (10,8))\n",
    "plt.plot(valores_E, pol(valores_E), 'b', data_x, data_y, 'ro')\n",
    "plt.title('Interpolación de Lagrange')\n",
    "plt.grid()\n",
    "plt.xlabel('$E_i$  [MeV]')\n",
    "plt.ylabel('$f(E_i)$  [MeV]')\n",
    "plt.show()"
   ]
  },
  {
   "cell_type": "code",
   "execution_count": 8,
   "id": "dbebf37b",
   "metadata": {},
   "outputs": [
    {
     "name": "stdout",
     "output_type": "stream",
     "text": [
      "Las raíces de la 1ra derivada son:\n",
      " [8.29188710073911, 30.7769085373451, 74.5802207708932, 168.097363948498, 191.673104120887, 141.093133587003 - 14.6352020117278*I, 141.093133587003 + 14.6352020117278*I]\n"
     ]
    }
   ],
   "source": [
    "#Obtengamos el máximo del polinomio de Lagrange con el criterio de la primer derivada\n",
    "df = sp.diff(g,x) #1ra derivada\n",
    "\n",
    "critic_points = list(sp.solveset(sp.Eq(df,0))) #Obtenemos las raices de la 1ra derivada\n",
    "\n",
    "print('Las raíces de la 1ra derivada son:\\n',critic_points)#Imprimimos las raíces\n"
   ]
  },
  {
   "cell_type": "code",
   "execution_count": 12,
   "id": "8ae75c6a",
   "metadata": {},
   "outputs": [
    {
     "name": "stdout",
     "output_type": "stream",
     "text": [
      "Soluciones a la ecuación g(x) = g(E_r)/2\n",
      " [4.15253976518238, 13.7637238439646, 48.7495359122139, 106.439115386978, 148.814112055004 - 36.4474827181311*I, 148.814112055004 + 36.4474827181311*I, 196.408145720752 - 12.0172541150965*I, 196.408145720752 + 12.0172541150965*I]\n"
     ]
    }
   ],
   "source": [
    "#obtengamos la energía de resonancia y gamma\n",
    "E_r = critic_points[2]\n",
    "mitad_max = sp.sympify(g).subs(x,E_r) /2. #Obtenemos el máximo por la mitad\n",
    "\n",
    "#Raices de la ecuación g(x) = E_r\n",
    "candidatos = list(sp.solveset(sp.Eq(g,mitad_max)))\n",
    "print('Soluciones a la ecuación g(x) = g(E_r)/2\\n',candidatos)"
   ]
  },
  {
   "cell_type": "code",
   "execution_count": 14,
   "id": "41ce8a9b",
   "metadata": {},
   "outputs": [],
   "source": [
    "#Valor de Gamma\n",
    "gamma = candidatos[3]- candidatos[2]"
   ]
  },
  {
   "cell_type": "code",
   "execution_count": 15,
   "id": "3b55113a",
   "metadata": {},
   "outputs": [
    {
     "name": "stdout",
     "output_type": "stream",
     "text": [
      "Energía de resonancia: 74.5802207708932 | Con un error de: 4.38433234500873 %\n",
      "Gamma: 57.6895794747641 | Con un error de: 4.89014449957113 %\n"
     ]
    }
   ],
   "source": [
    "#Errores porcentuales\n",
    "errorE_r = 100.*abs(78 - E_r)/78.\n",
    "errorGamma = 100.*abs(55-gamma)/55.\n",
    "\n",
    "print(f'Energía de resonancia: {E_r} | Con un error de: {errorE_r} %')\n",
    "print(f'Gamma: {gamma} | Con un error de: {errorGamma} %')\n"
   ]
  },
  {
   "cell_type": "markdown",
   "id": "758cef0c",
   "metadata": {},
   "source": [
    "# Ejercicio 2"
   ]
  },
  {
   "cell_type": "code",
   "execution_count": 16,
   "id": "707e7822",
   "metadata": {},
   "outputs": [
    {
     "data": {
      "image/png": "[encoded data removed]",
      "text/plain": [
       "<Figure size 432x288 with 1 Axes>"
      ]
     },
     "metadata": {
      "needs_background": "light"
     },
     "output_type": "display_data"
    }
   ],
   "source": [
    "from scipy.interpolate import CubicSpline\n",
    "import matplotlib.pyplot as plt\n",
    "import pandas as pd\n",
    "import numpy as np\n",
    "\n",
    "# Importamos los datos de un archivo txt\n",
    "data = pd.read_csv(r'C:\\Users\\cesar.avila\\Documents\\IPN\\Semestre 7\\Física Numérica\\Tareas\\Tarea6\\DatosLagrange.txt'\n",
    "                   ,header=0,delim_whitespace = True)\n",
    "\n",
    "# Recopilamos los datos de las dos columnas\n",
    "E = data.iloc[:,0]\n",
    "f = data.iloc[:,1]\n",
    "\n",
    "# Transformamos los datos a dos arreglos x,y para su mejor manejo\n",
    "x = np.float64(E)\n",
    "y = np.float64(f)\n",
    "\n",
    "#Creamos el CubicSpline\n",
    "cs = CubicSpline(x, y)\n",
    "\n",
    "#Creamos un arrgelo que contendrá los puntos a ser evaluados  en el eje x\n",
    "eje_x = np.arange(-2.0, 205, 5)\n",
    "eje_y = cs(eje_x)\n",
    "\n",
    "fig, ax = plt.subplots()\n",
    "ax.plot(x,y, 'og', label = 'Datos experimentales')\n",
    "ax.plot(eje_x, eje_y,  label = 'Spline Cúbico')\n",
    "ax.legend(loc='upper right')\n",
    "plt.show() "
   ]
  },
  {
   "cell_type": "code",
   "execution_count": 18,
   "id": "11abffa4",
   "metadata": {},
   "outputs": [
    {
     "name": "stdout",
     "output_type": "stream",
     "text": [
      "La energía de resonancia es: 76 MeV\n"
     ]
    }
   ],
   "source": [
    "#Esta parte evalúa de 1 en 1 nuestro ajuste para determinar el máximo y así obtener E_r\n",
    "while i != 200:\n",
    "    Antes = cs.__call__(i-1)\n",
    "    Desp = cs.__call__(i)\n",
    "    if Desp > Antes:\n",
    "        E_r = i\n",
    "    i += 1    \n",
    "\n",
    "print(f'La energía de resonancia es: {E_r} MeV')"
   ]
  },
  {
   "cell_type": "code",
   "execution_count": 20,
   "id": "52fb2c21",
   "metadata": {},
   "outputs": [
    {
     "name": "stdout",
     "output_type": "stream",
     "text": [
      "Gamma: 58.41018191655321 MeV\n"
     ]
    }
   ],
   "source": [
    "from scipy.interpolate import sproot, splrep\n",
    "\n",
    "#Maximo dividido por la mitad    \n",
    "mitad_maximo = cs.__call__(E_r)/2.\n",
    "\n",
    "#Creamos el spline recorrido como tipo splrep para poder sacar sus raices\n",
    "cs_recorrido = splrep(x, y- mitad_maximo)\n",
    "#sacamos las raices\n",
    "r1, r2 = sproot(cs_recorrido)\n",
    "\n",
    "#Valor de Gamma\n",
    "gamma = r2 - r1\n",
    "print(f'Gamma: {gamma} MeV')"
   ]
  },
  {
   "cell_type": "code",
   "execution_count": 21,
   "id": "1df06833",
   "metadata": {},
   "outputs": [
    {
     "name": "stdout",
     "output_type": "stream",
     "text": [
      "--------------------------------------------------\n",
      "Energía de resonancia: 76 MeV| Con un error de: 2.5641025641025643 %\n",
      "Gamma: 58.41018191655321 MeV| Con un error de: 6.200330757369479 %\n"
     ]
    }
   ],
   "source": [
    "#Errores porcentuales\n",
    "errorE_r = 100.*abs(78 - E_r)/78.\n",
    "errorGamma = 100.*abs(55-gamma)/55.\n",
    "\n",
    "print('-'*50)\n",
    "print(f'Energía de resonancia: {E_r} MeV| Con un error de: {errorE_r} %')\n",
    "print(f'Gamma: {gamma} MeV| Con un error de: {errorGamma} %')"
   ]
  },
  {
   "cell_type": "markdown",
   "id": "af9c4927",
   "metadata": {},
   "source": [
    "# Ejercicio 3"
   ]
  },
  {
   "cell_type": "code",
   "execution_count": 14,
   "id": "08d45388",
   "metadata": {
    "scrolled": false
   },
   "outputs": [],
   "source": [
    "import pandas as pd\n",
    "import sympy as sp\n",
    "import numpy as np\n",
    "import numpy.polynomial.polynomial as poly\n",
    "import matplotlib.pyplot as plt\n",
    "\n",
    "def gx(i:int , values: list): \n",
    "    \"\"\"\n",
    "    Esta función calcula el valor de g(x_i) usando el cálculo simbólico\n",
    "    de sympy\n",
    "    \n",
    "    Parámetros:\n",
    "        i = número de índice de x_i, i =0,1,2,...n-1 con n = no. de datos\n",
    "        x = lista que contiene los datos experimentales para obtener g(x_i)\n",
    "    Salida:\n",
    "        Regresa la ecuación g(x_i)\n",
    "    \"\"\"\n",
    "    \n",
    "    g, a1, a2, a3 = sp.symbols('g, a1, a2, a3') #Creamos las variables para el cálculo simbólico\n",
    "    \n",
    "    #Inicializamos las variables\n",
    "    g = 0\n",
    "\n",
    "    #Esta parte calculo g(x_i) usando la fórmula\n",
    "    \n",
    "    g = a1/((values[i] - a2)**2 + a3)\n",
    "    #g = sp.expand(g)\n",
    "    return g\n",
    "\n",
    "# Importamos los datos de un archivo txt\n",
    "data = pd.read_csv(r'C:\\Users\\cesar.avila\\Documents\\IPN\\Semestre 7\\Física Numérica\\Tareas\\Tarea6\\DatosLagrange.txt'\n",
    "                   ,header=0,delim_whitespace = True)\n",
    "\n",
    "# Recopilamos los datos de las dos columnas\n",
    "E = data.iloc[:,0]\n",
    "f = data.iloc[:,1]\n",
    "sigma = data.iloc[:,2]\n",
    "\n",
    "# Transformamos los datos a dos arreglos x,y para su mejor manejo\n",
    "data_x = np.float64(E)\n",
    "data_y = np.float64(f)\n",
    "sigma_y = np.float64(sigma)\n",
    "\n",
    "#Guardamos el número de datos \n",
    "n = len(data_x)\n",
    "# Definimos variables para la obtendión g(x) y los inicializamos\n",
    "g, a1, a2, a3 = sp.symbols('g, a_1, a_2, a_3')\n",
    "g = 0.\n",
    "\n",
    "# Definimos variables para la obtendión f_1, f2, f3 y los inicializamos\n",
    "f1, f2, f3, aux = sp.symbols('f_1, f_2, f_3, aux')\n",
    "f1 = 0.\n",
    "f2 = 0.\n",
    "f3 = 0.\n",
    "\n",
    "for i in range(n):\n",
    "    #Cálculo de g(x_i)\n",
    "    g = gx(i,data_x)\n",
    "    \n",
    "    #Cálculo de  f1\n",
    "    aux = (data_y[i] - g) / (((data_x[i] - a2)**2 + a3) * sigma_y[i]**2)\n",
    "    #aux = sp.expand(aux)\n",
    "    f1 += aux\n",
    "    \n",
    "    #Cálculo de  f2\n",
    "    aux = (data_y[i] - g) * (data_x[i] - a2) / (((data_x[i] - a2)**2 + a3)**2 * sigma_y[i]**2)\n",
    "    #aux = sp.expand(aux)\n",
    "    f2 += aux\n",
    "    \n",
    "    #Cálculo de  f3\n",
    "    aux = (data_y[i] - g) / (((data_x[i] - a2)**2 + a3)**2 * sigma_y[i]**2)\n",
    "    #aux = sp.expand(aux)\n",
    "    f3 += aux\n"
   ]
  },
  {
   "cell_type": "code",
   "execution_count": 15,
   "id": "b1a9141a",
   "metadata": {},
   "outputs": [],
   "source": [
    "def f_vector(f1,f2,f3, x:float, y:float, z:float):\n",
    "    \"\"\"Esta función calcula el f vector en la solución de Newton-Rapghson y\n",
    "    evalúa a las funciones f1, f2, f3 en los puntos x,y,z. \n",
    "    Regresa una matriz.\"\"\"\n",
    "    \n",
    "    a1, a2, a3 = sp.symbols('a1, a2, a3')\n",
    "\n",
    "    valor1 = f1.subs([(a1,x), (a2,y), (a3,z)])\n",
    "    valor2 = f2.subs([(a1,x), (a2,y), (a3,z)])\n",
    "    valor3 = f3.subs([(a1,x), (a2,y), (a3,z)])\n",
    "    \n",
    "    return np.array([[valor1], [valor2], [valor3]])\n",
    "    \n",
    "def jacobiano(f1,f2,f3, x:float, y:float, z:float):\n",
    "    \"\"\"Esta función calcula la matriz Jacobiana en la solución de Newton-Rapghson \n",
    "    y evalúa a las derivadas parciales de f1, f2, f3 en los puntos x,y,z. \n",
    "    Regresa una matriz.\"\"\"\n",
    "    \n",
    "    df, a1, a2, a3 = sp.symbols('df, a1, a2, a3')\n",
    "    \n",
    "    variables = [a1, a2, a3]\n",
    "    funciones = [f1, f2, f3]\n",
    "    \n",
    "    #Saca la derivada y evalua los valores de a1,a2,a3=x,y,z\n",
    "    J =np.array([[np.float64(sp.diff(funciones[i], variables[j]).subs([(a1,x), (a2,y), (a3,z)])) \n",
    "                 for j in range(len(variables))] for i in range(len(variables))])\n",
    "    \n",
    "    return J"
   ]
  },
  {
   "cell_type": "code",
   "execution_count": 17,
   "id": "43fc57d2",
   "metadata": {
    "scrolled": true
   },
   "outputs": [
    {
     "name": "stdout",
     "output_type": "stream",
     "text": [
      "No. iteración: 1\n",
      "Condición: 1.0\n"
     ]
    },
    {
     "ename": "TypeError",
     "evalue": "can't convert expression to float",
     "output_type": "error",
     "traceback": [
      "\u001b[1;31m---------------------------------------------------------------------------\u001b[0m",
      "\u001b[1;31mTypeError\u001b[0m                                 Traceback (most recent call last)",
      "\u001b[1;32m<ipython-input-17-272b1863ca80>\u001b[0m in \u001b[0;36m<module>\u001b[1;34m\u001b[0m\n\u001b[0;32m     20\u001b[0m     \u001b[0mprint\u001b[0m\u001b[1;33m(\u001b[0m\u001b[1;34mf'Condición: {condicion}'\u001b[0m\u001b[1;33m)\u001b[0m\u001b[1;33m\u001b[0m\u001b[1;33m\u001b[0m\u001b[0m\n\u001b[0;32m     21\u001b[0m     \u001b[0mA\u001b[0m \u001b[1;33m=\u001b[0m \u001b[0mf_vector\u001b[0m\u001b[1;33m(\u001b[0m\u001b[0mf1\u001b[0m\u001b[1;33m,\u001b[0m \u001b[0mf2\u001b[0m\u001b[1;33m,\u001b[0m \u001b[0mf3\u001b[0m\u001b[1;33m,\u001b[0m \u001b[0ma_new\u001b[0m\u001b[1;33m[\u001b[0m\u001b[1;36m0\u001b[0m\u001b[1;33m]\u001b[0m\u001b[1;33m,\u001b[0m \u001b[0ma_new\u001b[0m\u001b[1;33m[\u001b[0m\u001b[1;36m1\u001b[0m\u001b[1;33m]\u001b[0m\u001b[1;33m,\u001b[0m \u001b[0ma_new\u001b[0m\u001b[1;33m[\u001b[0m\u001b[1;36m2\u001b[0m\u001b[1;33m]\u001b[0m\u001b[1;33m)\u001b[0m\u001b[1;33m\u001b[0m\u001b[1;33m\u001b[0m\u001b[0m\n\u001b[1;32m---> 22\u001b[1;33m     \u001b[0mB\u001b[0m \u001b[1;33m=\u001b[0m \u001b[0mjacobiano\u001b[0m\u001b[1;33m(\u001b[0m\u001b[0mf1\u001b[0m\u001b[1;33m,\u001b[0m \u001b[0mf2\u001b[0m\u001b[1;33m,\u001b[0m \u001b[0mf3\u001b[0m\u001b[1;33m,\u001b[0m \u001b[0ma_new\u001b[0m\u001b[1;33m[\u001b[0m\u001b[1;36m0\u001b[0m\u001b[1;33m]\u001b[0m\u001b[1;33m,\u001b[0m \u001b[0ma_new\u001b[0m\u001b[1;33m[\u001b[0m\u001b[1;36m1\u001b[0m\u001b[1;33m]\u001b[0m\u001b[1;33m,\u001b[0m \u001b[0ma_new\u001b[0m\u001b[1;33m[\u001b[0m\u001b[1;36m2\u001b[0m\u001b[1;33m]\u001b[0m\u001b[1;33m)\u001b[0m\u001b[1;33m\u001b[0m\u001b[1;33m\u001b[0m\u001b[0m\n\u001b[0m\u001b[0;32m     23\u001b[0m     \u001b[0minv_B\u001b[0m \u001b[1;33m=\u001b[0m \u001b[0mnp\u001b[0m\u001b[1;33m.\u001b[0m\u001b[0mlinalg\u001b[0m\u001b[1;33m.\u001b[0m\u001b[0minv\u001b[0m\u001b[1;33m(\u001b[0m\u001b[0mB\u001b[0m\u001b[1;33m)\u001b[0m\u001b[1;33m\u001b[0m\u001b[1;33m\u001b[0m\u001b[0m\n\u001b[0;32m     24\u001b[0m \u001b[1;33m\u001b[0m\u001b[0m\n",
      "\u001b[1;32m<ipython-input-15-33e8bf84485b>\u001b[0m in \u001b[0;36mjacobiano\u001b[1;34m(f1, f2, f3, x, y, z)\u001b[0m\n\u001b[0;32m     23\u001b[0m \u001b[1;33m\u001b[0m\u001b[0m\n\u001b[0;32m     24\u001b[0m     \u001b[1;31m#Saca la derivada y evalua los valores de a1,a2,a3=x,y,z\u001b[0m\u001b[1;33m\u001b[0m\u001b[1;33m\u001b[0m\u001b[1;33m\u001b[0m\u001b[0m\n\u001b[1;32m---> 25\u001b[1;33m     J =np.array([[np.float64(sp.diff(funciones[i], variables[j]).subs([(a1,x), (a2,y), (a3,z)])) \n\u001b[0m\u001b[0;32m     26\u001b[0m                  for j in range(len(variables))] for i in range(len(variables))])\n\u001b[0;32m     27\u001b[0m \u001b[1;33m\u001b[0m\u001b[0m\n",
      "\u001b[1;32m<ipython-input-15-33e8bf84485b>\u001b[0m in \u001b[0;36m<listcomp>\u001b[1;34m(.0)\u001b[0m\n\u001b[0;32m     23\u001b[0m \u001b[1;33m\u001b[0m\u001b[0m\n\u001b[0;32m     24\u001b[0m     \u001b[1;31m#Saca la derivada y evalua los valores de a1,a2,a3=x,y,z\u001b[0m\u001b[1;33m\u001b[0m\u001b[1;33m\u001b[0m\u001b[1;33m\u001b[0m\u001b[0m\n\u001b[1;32m---> 25\u001b[1;33m     J =np.array([[np.float64(sp.diff(funciones[i], variables[j]).subs([(a1,x), (a2,y), (a3,z)])) \n\u001b[0m\u001b[0;32m     26\u001b[0m                  for j in range(len(variables))] for i in range(len(variables))])\n\u001b[0;32m     27\u001b[0m \u001b[1;33m\u001b[0m\u001b[0m\n",
      "\u001b[1;32m<ipython-input-15-33e8bf84485b>\u001b[0m in \u001b[0;36m<listcomp>\u001b[1;34m(.0)\u001b[0m\n\u001b[0;32m     23\u001b[0m \u001b[1;33m\u001b[0m\u001b[0m\n\u001b[0;32m     24\u001b[0m     \u001b[1;31m#Saca la derivada y evalua los valores de a1,a2,a3=x,y,z\u001b[0m\u001b[1;33m\u001b[0m\u001b[1;33m\u001b[0m\u001b[1;33m\u001b[0m\u001b[0m\n\u001b[1;32m---> 25\u001b[1;33m     J =np.array([[np.float64(sp.diff(funciones[i], variables[j]).subs([(a1,x), (a2,y), (a3,z)])) \n\u001b[0m\u001b[0;32m     26\u001b[0m                  for j in range(len(variables))] for i in range(len(variables))])\n\u001b[0;32m     27\u001b[0m \u001b[1;33m\u001b[0m\u001b[0m\n",
      "\u001b[1;32m~\\anaconda3\\lib\\site-packages\\sympy\\core\\expr.py\u001b[0m in \u001b[0;36m__float__\u001b[1;34m(self)\u001b[0m\n\u001b[0;32m    356\u001b[0m         \u001b[1;32mif\u001b[0m \u001b[0mresult\u001b[0m\u001b[1;33m.\u001b[0m\u001b[0mis_number\u001b[0m \u001b[1;32mand\u001b[0m \u001b[0mresult\u001b[0m\u001b[1;33m.\u001b[0m\u001b[0mas_real_imag\u001b[0m\u001b[1;33m(\u001b[0m\u001b[1;33m)\u001b[0m\u001b[1;33m[\u001b[0m\u001b[1;36m1\u001b[0m\u001b[1;33m]\u001b[0m\u001b[1;33m:\u001b[0m\u001b[1;33m\u001b[0m\u001b[1;33m\u001b[0m\u001b[0m\n\u001b[0;32m    357\u001b[0m             \u001b[1;32mraise\u001b[0m \u001b[0mTypeError\u001b[0m\u001b[1;33m(\u001b[0m\u001b[1;34m\"can't convert complex to float\"\u001b[0m\u001b[1;33m)\u001b[0m\u001b[1;33m\u001b[0m\u001b[1;33m\u001b[0m\u001b[0m\n\u001b[1;32m--> 358\u001b[1;33m         \u001b[1;32mraise\u001b[0m \u001b[0mTypeError\u001b[0m\u001b[1;33m(\u001b[0m\u001b[1;34m\"can't convert expression to float\"\u001b[0m\u001b[1;33m)\u001b[0m\u001b[1;33m\u001b[0m\u001b[1;33m\u001b[0m\u001b[0m\n\u001b[0m\u001b[0;32m    359\u001b[0m \u001b[1;33m\u001b[0m\u001b[0m\n\u001b[0;32m    360\u001b[0m     \u001b[1;32mdef\u001b[0m \u001b[0m__complex__\u001b[0m\u001b[1;33m(\u001b[0m\u001b[0mself\u001b[0m\u001b[1;33m)\u001b[0m\u001b[1;33m:\u001b[0m\u001b[1;33m\u001b[0m\u001b[1;33m\u001b[0m\u001b[0m\n",
      "\u001b[1;31mTypeError\u001b[0m: can't convert expression to float"
     ]
    }
   ],
   "source": [
    "#Semillas de a1,a2,a3    \n",
    "x = 1.\n",
    "y = 85.\n",
    "z = 756.25\n",
    "\n",
    "# Longitud a1+Delta_a1,a2+Delta_a2, a3+Delta_a3\n",
    "\n",
    "a = [0., 0., 0.]\n",
    "a_new = [x, y, z]\n",
    "\n",
    "# Definimos el error para detener la iteración de Newton-Raphson\n",
    "error = 10**(-5)\n",
    "i=1\n",
    "\n",
    "condicion = abs(a_new[0] - a[0])\n",
    "\n",
    "#Iteraciones Newton-Raphson:\n",
    "while  condicion > error:\n",
    "    print(f'No. iteración: {i}')\n",
    "    print(f'Condición: {condicion}')\n",
    "    A = f_vector(f1, f2, f3, a_new[0], a_new[1], a_new[2]) \n",
    "    B = jacobiano(f1, f2, f3, a_new[0], a_new[1], a_new[2])\n",
    "    inv_B = np.linalg.inv(B)\n",
    "      \n",
    "    Delta_a = -inv_B.dot(A)\n",
    "    \n",
    "    #Guardamos los viejos valores\n",
    "    a[0] = a_new[0]\n",
    "    a[1] = a_new[1]\n",
    "    a[2] = a_new[2]\n",
    "    \n",
    "    #Asignamos los nuevos valores\n",
    "    a_new[0] += Delta_a[0][0] \n",
    "    a_new[1] += Delta_a[1][0]\n",
    "    a_new[2] += Delta_a[2][0]\n",
    "    condicion = abs(a_new[0] - a[0])\n",
    "    i+=1\n",
    "\n",
    "print('-'*50)    \n",
    "print(f'Valores:\\na_1 = {a_new[0]}\\na_2 = {a_new[1]} \\na_3 = {a_new[2]}')"
   ]
  },
  {
   "cell_type": "code",
   "execution_count": 18,
   "id": "29e73891",
   "metadata": {},
   "outputs": [
    {
     "name": "stdout",
     "output_type": "stream",
     "text": [
      "No. iteración: 1\n",
      "Condición: 1.0\n",
      "No. iteración: 2\n",
      "Condición: 67655.4330261934\n",
      "No. iteración: 3\n",
      "Condición: 24614.9900253153\n",
      "No. iteración: 4\n",
      "Condición: 28442.6096127858\n",
      "No. iteración: 5\n",
      "Condición: 3793.96340011013\n",
      "No. iteración: 6\n",
      "Condición: 434.129151612229\n",
      "No. iteración: 7\n",
      "Condición: 1788.56911727491\n",
      "No. iteración: 8\n",
      "Condición: 982.129104051593\n",
      "No. iteración: 9\n",
      "Condición: 163.747680600121\n",
      "No. iteración: 10\n",
      "Condición: 4.04242087905004\n",
      "No. iteración: 11\n",
      "Condición: 0.00249124612309970\n",
      "--------------------------------------------------\n",
      "Valores:\n",
      "a_1 = 70995.3968045506\n",
      "a_2 = 78.2055214202417 \n",
      "a_3 = 877.575841650900\n"
     ]
    }
   ],
   "source": [
    "# -*- coding: utf-8 -*-\n",
    "\"\"\"\n",
    "Resonancia de Breit-Wigner\n",
    "\"\"\"\n",
    "\n",
    "import pandas as pd\n",
    "import sympy as sp\n",
    "import numpy as np\n",
    "import numpy.polynomial.polynomial as poly\n",
    "import matplotlib.pyplot as plt\n",
    "\n",
    "def gx(i:int , values: list): \n",
    "    \"\"\"\n",
    "    Esta función calcula el valor de g(x_i) usando el cálculo simbólico\n",
    "    de sumpy\n",
    "    \n",
    "    Parámetros:\n",
    "        i = número de índice de x_i, i =0,1,2,...n-1 con n = no. de datos\n",
    "        x = lista que contiene los datos experimentales para obtener g(x_i)\n",
    "    Salida:\n",
    "        Regresa la ecuación g(x_i)\n",
    "    \"\"\"\n",
    "    \n",
    "    g, a1, a2, a3 = sp.symbols('g, a1, a2, a3') #Creamos las variables para el cálculo simbólico\n",
    "    \n",
    "    #Inicializamos las variables\n",
    "    g = 0\n",
    "\n",
    "    #Esta parte calculo g(x_i) usando la fórmula\n",
    "    \n",
    "    g = a1/((values[i] - a2)**2 + a3)\n",
    "    g = sp.expand(g)\n",
    "    return g\n",
    "\n",
    "def f_vector(f1,f2,f3, x:float, y:float, z:float):\n",
    "    \"\"\"Esta función calcula el f vector en la solución de Newton-Rapghson y\n",
    "    evalúa a las funciones f1, f2, f3 en los puntos x,y,z. \n",
    "    Regresa una matriz.\"\"\"\n",
    "    \n",
    "    a1, a2, a3 = sp.symbols('a1, a2, a3')\n",
    "\n",
    "    valor1 = f1.subs([(a1,x), (a2,y), (a3,z)])\n",
    "    valor2 = f2.subs([(a1,x), (a2,y), (a3,z)])\n",
    "    valor3 = f3.subs([(a1,x), (a2,y), (a3,z)])\n",
    "    \n",
    "    return np.array([[valor1], [valor2], [valor3]])\n",
    "    \n",
    "def jacobiano(f1,f2,f3, x:float, y:float, z:float):\n",
    "    \"\"\"Esta función calcula la matriz Jacobiana en la solución de Newton-Rapghson \n",
    "    y evalúa a las derivadas parciales de f1, f2, f3 en los puntos x,y,z. \n",
    "    Regresa una matriz.\"\"\"\n",
    "    \n",
    "    df, a1, a2, a3 = sp.symbols('df, a1, a2, a3')\n",
    "    \n",
    "    variables = [a1, a2, a3]\n",
    "    funciones = [f1, f2, f3]\n",
    "    \n",
    "    #Saca la derivada y evalua los valores de a1,a2,a3=x,y,z\n",
    "    J =np.array([[np.float64(sp.diff(funciones[i], variables[j]).subs([(a1,x), (a2,y), (a3,z)])) \n",
    "                 for j in range(len(variables))] for i in range(len(variables))])\n",
    "    \n",
    "    return J\n",
    "    \n",
    "\n",
    "# Importamos los datos de un archivo txt\n",
    "data = pd.read_csv(r'C:\\Users\\cesar.avila\\Documents\\IPN\\Semestre 7\\Física Numérica\\Tareas\\Tarea6\\DatosLagrange.txt'\n",
    "                   ,header=0,delim_whitespace = True)\n",
    "\n",
    "# Recopilamos los datos de las dos columnas\n",
    "E = data.iloc[:,0]\n",
    "f = data.iloc[:,1]\n",
    "sigma = data.iloc[:,2]\n",
    "\n",
    "# Transformamos los datos a dos arreglos x,y para su mejor manejo\n",
    "data_x = np.float64(E)\n",
    "data_y = np.float64(f)\n",
    "sigma_y = np.float64(sigma)\n",
    "\n",
    "#Guardamos el número de datos \n",
    "n = len(data_x)\n",
    "\n",
    "# Definimos variables para la obtendión g(x) y los inicializamos\n",
    "g, a1, a2, a3 = sp.symbols('g, a1, a2, a3')\n",
    "g = 0.\n",
    "\n",
    "# Definimos variables para la obtendión f_1, f2, f3 y los inicializamos\n",
    "f1, f2, f3, aux = sp.symbols('f1, f2, f3, aux')\n",
    "f1 = 0.\n",
    "f2 = 0.\n",
    "f3 = 0.\n",
    "\n",
    "\n",
    "\n",
    "for i in range(n):\n",
    "    #Cálculo de g(x_i)\n",
    "    g = gx(i,data_x)\n",
    "    #Cálculo de  f1\n",
    "    aux = (data_y[i] - g) / (((data_x[i] - a2)**2 + a3) * sigma_y[i]**2)\n",
    "    aux = sp.expand(aux)\n",
    "    f1 += aux\n",
    "    \n",
    "    #Cálculo de  f2\n",
    "    aux = (data_y[i] - g) * (data_x[i] - a2) / (((data_x[i] - a2)**2 + a3)**2 * sigma_y[i]**2)\n",
    "    aux = sp.expand(aux)\n",
    "    f2 += aux\n",
    "    \n",
    "    #Cálculo de  f3\n",
    "    aux = (data_y[i] - g) / (((data_x[i] - a2)**2 + a3)**2 * sigma_y[i]**2)\n",
    "    aux = sp.expand(aux)\n",
    "    f3 += aux\n",
    "\n",
    "#Semillas de a1,a2,a3    \n",
    "x = 1.\n",
    "y = 85.\n",
    "z = 756.25\n",
    "\n",
    "# Longitud a1+Delta_a1,a2+Delta_a2, a3+Delta_a3\n",
    "\n",
    "a = [0., 0., 0.]\n",
    "a_new = [x, y, z]\n",
    "\n",
    "# Definimos el error para detener la iteración de Newton-Raphson\n",
    "error = 10**(-5)\n",
    "i=1\n",
    "\n",
    "condicion = abs(a_new[0] - a[0])\n",
    "\n",
    "#Iteraciones Newton-Raphson:\n",
    "while  condicion > error:\n",
    "    print(f'No. iteración: {i}')\n",
    "    print(f'Condición: {condicion}')\n",
    "    A = f_vector(f1, f2, f3, a_new[0], a_new[1], a_new[2]) \n",
    "    B = jacobiano(f1, f2, f3, a_new[0], a_new[1], a_new[2])\n",
    "    inv_B = np.linalg.inv(B)\n",
    "      \n",
    "    Delta_a = -inv_B.dot(A)\n",
    "    \n",
    "    #Guardamos los viejos valores\n",
    "    a[0] = a_new[0]\n",
    "    a[1] = a_new[1]\n",
    "    a[2] = a_new[2]\n",
    "    \n",
    "    #Asignamos los nuevos valores\n",
    "    a_new[0] += Delta_a[0][0] \n",
    "    a_new[1] += Delta_a[1][0]\n",
    "    a_new[2] += Delta_a[2][0]\n",
    "    condicion = abs(a_new[0] - a[0])\n",
    "    i+=1\n",
    "\n",
    "print('-'*50)    \n",
    "print(f'Valores:\\na_1 = {a_new[0]}\\na_2 = {a_new[1]} \\na_3 = {a_new[2]}')"
   ]
  },
  {
   "cell_type": "markdown",
   "id": "962e00ba",
   "metadata": {},
   "source": [
    "# Ejercicio 4"
   ]
  },
  {
   "cell_type": "code",
   "execution_count": 1,
   "id": "3aead9a7",
   "metadata": {
    "scrolled": true
   },
   "outputs": [
    {
     "name": "stdout",
     "output_type": "stream",
     "text": [
      "No. iteración: 1\n",
      "Condición: 0.18833957009718816\n",
      "No. iteración: 2\n",
      "Condición: 0.23662530371362678\n",
      "No. iteración: 3\n",
      "Condición: 0.5614541732550196\n",
      "No. iteración: 4\n",
      "Condición: 0.8751231332017051\n",
      "No. iteración: 5\n",
      "Condición: 0.9606525935785575\n",
      "No. iteración: 6\n",
      "Condición: 0.757634102786926\n",
      "No. iteración: 7\n",
      "Condición: 0.4757632327253978\n",
      "No. iteración: 8\n",
      "Condición: 0.24266713986132515\n",
      "No. iteración: 9\n",
      "Condición: 0.0813043061961558\n",
      "No. iteración: 10\n",
      "Condición: 0.010600811190355941\n",
      "No. iteración: 11\n",
      "Condición: 0.00020256647960081864\n",
      "No. iteración: 12\n",
      "Condición: 8.230561210353926e-08\n",
      "No. iteración: 13\n",
      "Condición: 1.4210854715202004e-14\n",
      "No. iteración: 14\n",
      "Condición: 0.0\n",
      "--------------------------------------------------\n",
      "Valores:\n",
      "a_1 = 5.013687875197109\n",
      "a_2 = 0.01221930618762891\n"
     ]
    }
   ],
   "source": [
    "import pandas as pd\n",
    "import sympy as sp\n",
    "import numpy as np\n",
    "import numpy.polynomial.polynomial as poly\n",
    "import matplotlib.pyplot as plt\n",
    "\n",
    "def gx(i:int , values: list): \n",
    "    \"\"\"\n",
    "    Esta función calcula el valor de g(x_i) usando el cálculo simbólico\n",
    "    de sumpy\n",
    "    \n",
    "    Parámetros:\n",
    "        i = número de índice de x_i, i =0,1,2,...n-1 con n = no. de datos\n",
    "        x = lista que contiene los datos experimentales para obtener g(x_i)\n",
    "    Salida:\n",
    "        Regresa la ecuación g(x_i)\n",
    "    \"\"\"\n",
    "    \n",
    "    g, a1, a2 = sp.symbols('g, a1, a2') #Creamos las variables para el cálculo simbólico\n",
    "    \n",
    "    #Inicializamos las variables\n",
    "    g = 0.\n",
    "\n",
    "    #Esta parte calculo g(x_i) usando la fórmula\n",
    "    \n",
    "    g = a1*sp.exp(-a2*values[i])\n",
    "    g = sp.expand(g)\n",
    "    return g\n",
    "\n",
    "def f_vector(f1,f2, x:float, y:float):\n",
    "    \"\"\"Esta función calcula el f vector en la solución de Newton-Rapghson y\n",
    "    evalúa a las funciones f1, f2 en los puntos x,y. \n",
    "    Regresa una matriz.\"\"\"\n",
    "    \n",
    "    a1, a2 = sp.symbols('a1, a2')\n",
    "\n",
    "    valor1 = f1.subs([(a1,x), (a2,y)])\n",
    "    valor2 = f2.subs([(a1,x), (a2,y)])\n",
    "\n",
    "    \n",
    "    return np.array([[valor1], [valor2]])\n",
    "    \n",
    "def jacobiano(f1,f2, x:float, y:float):\n",
    "    \"\"\"Esta función calcula la matriz Jacobiana en la solución de Newton-Rapghson \n",
    "    y evalúa a las derivadas parciales de f1, f2, f3 en los puntos x,y,z. \n",
    "    Regresa una matriz.\"\"\"\n",
    "    \n",
    "    df, a1, a2 = sp.symbols('df, a1, a2')\n",
    "    \n",
    "    variables = [a1, a2]\n",
    "    funciones = [f1, f2]\n",
    "    \n",
    "    #Saca la derivada y evalua los valores de a1,a2 = x,y\n",
    "    J = np.array([[np.float64(sp.diff(funciones[i], variables[j]).subs([(a1,x), (a2,y)])) \n",
    "                 for j in range(len(variables))] for i in range(len(variables))])\n",
    "    \n",
    "    return J\n",
    "    \n",
    "# Importamos los datos de un archivo txt\n",
    "data = pd.read_csv(r'C:\\Users\\cesar.avila\\Documents\\IPN\\Semestre 7\\Física Numérica\\Tareas\\Tarea6\\DatoVoltage.txt'\n",
    "                   ,header=0,delim_whitespace = True)\n",
    "\n",
    "# Recopilamos los datos de las dos columnas\n",
    "t = data.iloc[:,0]\n",
    "V = data.iloc[:,1]\n",
    "sigma = data.iloc[:,2]\n",
    "\n",
    "# Transformamos los datos a dos arreglos x,y para su mejor manejo\n",
    "data_x = np.float64(t)\n",
    "data_y = np.float64(V)\n",
    "sigma_y = np.float64(sigma)\n",
    "\n",
    "\n",
    "#Guardamos el número de datos \n",
    "n = len(data_x)\n",
    "\n",
    "# Definimos variables para la obtendión g(x) y los inicializamos\n",
    "g, a1, a2 = sp.symbols('g, a1, a2')\n",
    "g = 0.\n",
    "\n",
    "# Definimos variables para la obtendión f_1, f2, f3 y los inicializamos\n",
    "f1, f2, aux = sp.symbols('f1, f2, aux')\n",
    "f1 = 0.\n",
    "f2 = 0.\n",
    "\n",
    "for i in range(n):\n",
    "    #Cálculo de g(x_i)\n",
    "    g = gx(i,data_x)\n",
    "    #Cálculo de  f1\n",
    "    aux = (data_y[i] - g) * sp.exp(-a2*data_x[i]) / sigma_y[i]**2\n",
    "    aux = sp.expand(aux)\n",
    "    f1 += aux\n",
    "    \n",
    "    #Cálculo de  f2\n",
    "    aux = (data_y[i] - g) * data_x[i] * sp.exp(-a2*data_x[i]) / sigma_y[i]**2\n",
    "    aux = sp.expand(aux)\n",
    "    f2 += aux\n",
    " \n",
    "#Semillas de a1,a2,  \n",
    "x = 1.\n",
    "y = 0.00001\n",
    "\n",
    "# Longitud a1+Delta_a1,a2+Delta_a2, a3+Delta_a3\n",
    "\n",
    "a = [0., 0.]\n",
    "a_new = [x, y]\n",
    "\n",
    "# Definimos el error para detener la iteración de Newton-Raphson\n",
    "error = 10**(-20)\n",
    "i=1\n",
    "\n",
    "condicion1 = abs(a_new[0] - a[0])\n",
    "\n",
    "#Iteraciones Newton-Raphson:\n",
    "while  (condicion1 > error):\n",
    "    A = f_vector(f1, f2, a_new[0], a_new[1]) \n",
    "    B = jacobiano(f1, f2, a_new[0], a_new[1])\n",
    "    inv_B = np.linalg.inv(B)\n",
    "      \n",
    "    Delta_a = -inv_B.dot(A)\n",
    "    \n",
    "    #Guardamos los viejos valores\n",
    "    a[0] = a_new[0]\n",
    "    a[1] = a_new[1]\n",
    "    \n",
    "    #Asignamos los nuevos valores\n",
    "    a_new[0] += np.float64(Delta_a[0][0])\n",
    "    a_new[1] += np.float64(Delta_a[1][0])\n",
    "    \n",
    "    condicion1 = abs(a_new[0] - a[0])\n",
    "    print(f'No. iteración: {i}')\n",
    "    print(f'Condición: {condicion1}')\n",
    "    i+=1\n",
    "\n",
    "print('-'*50)    \n",
    "print(f'Valores:\\na_1 = {a_new[0]}\\na_2 = {a_new[1]}')\n"
   ]
  },
  {
   "cell_type": "code",
   "execution_count": 2,
   "id": "e3a22221",
   "metadata": {},
   "outputs": [
    {
     "name": "stdout",
     "output_type": "stream",
     "text": [
      "--------------------------------------------------\n",
      "Valor de chi^2: 11.653063986177251\n"
     ]
    }
   ],
   "source": [
    "# Cálculo de chi^2 con los valores de a_1 = a_new[0] y a_2 = a_new[1]\n",
    "\n",
    "chi = sp.symbols('chi') # Creamos las variables para el cálculo simbólico\n",
    "    \n",
    "#Inicializamos las variables\n",
    "chi = 0.\n",
    "\n",
    "for i in range(len(data_x)):\n",
    "    aux = ((data_y[i] - a_new[0]*np.exp(- a_new[1] *data_x[i])) / sigma_y[i])**2 \n",
    "    chi += aux\n",
    "    \n",
    "print('-'*50)\n",
    "print(f'Valor de chi^2: {chi}')\n"
   ]
  },
  {
   "cell_type": "code",
   "execution_count": 3,
   "id": "81594e52",
   "metadata": {},
   "outputs": [],
   "source": [
    "# Hagamos una gráfica semilog para obtener ajuste por mínimos cuadrados a una recta\n",
    "\n",
    "logaritmos = np.log(data_y)\n",
    "incertidumbre_ln = sigma_y/data_y\n"
   ]
  },
  {
   "cell_type": "code",
   "execution_count": 4,
   "id": "b6de61ec",
   "metadata": {
    "scrolled": false
   },
   "outputs": [
    {
     "data": {
      "image/png": "[encoded data removed]",
      "text/plain": [
       "<Figure size 576x432 with 1 Axes>"
      ]
     },
     "metadata": {
      "needs_background": "light"
     },
     "output_type": "display_data"
    }
   ],
   "source": [
    "# Graficquemos y obtengamos el ajuste \n",
    "fig, ax = plt.subplots(figsize=(8, 6))\n",
    "ax.errorbar(data_x, logaritmos, yerr=incertidumbre_ln) # Grafica la incertidumbre en cada punto\n",
    "ax.set_ylabel('$ln V(t))$ [Volts]')\n",
    "ax.set_xlabel('$t$ [ns]')\n",
    "ax.set_title('Grafico semilog decaimiento del voltaje')\n",
    "ax.grid()\n",
    "plt.show()\n"
   ]
  },
  {
   "cell_type": "code",
   "execution_count": 5,
   "id": "1d0dd6a9",
   "metadata": {},
   "outputs": [
    {
     "name": "stdout",
     "output_type": "stream",
     "text": [
      "--------------------------------------------------\n",
      "Los valores de Gamma y V_0 por este ajuste son:\n",
      "Gamma: 0.012139925808506362\n",
      "V_0: 5.002014936967898\n"
     ]
    }
   ],
   "source": [
    "# Obtengamos el ajuste de recta por mínimos cuadrados\n",
    "S = 0.\n",
    "Sx = 0.\n",
    "Sy = 0.\n",
    "Sxx = 0.\n",
    "Sxy = 0.\n",
    "\n",
    "for i in range(len(logaritmos)):\n",
    "    S += 1/incertidumbre_ln[i]**2\n",
    "    Sx += data_x[i]/incertidumbre_ln[i]**2\n",
    "    Sy += logaritmos[i]/incertidumbre_ln[i]**2\n",
    "    Sxx += data_x[i]**2 / incertidumbre_ln[i]**2\n",
    "    Sxy += data_x[i]*logaritmos[i] / incertidumbre_ln[i]**2\n",
    "\n",
    "# Solución al sistema de ecuaciones  \n",
    "matriz1 = np.array([[S, Sx],[Sx, Sxx]])\n",
    "matriz2 = np.array([[Sy], [Sxy]])\n",
    "\n",
    "inversa = np.linalg.inv(matriz1)\n",
    "resultado = inversa.dot(matriz2)\n",
    "# b = ordenada al origen y m = pendiente\n",
    "b, m = float(resultado[0]), float(resultado[1])\n",
    "\n",
    "print('-'*50)\n",
    "print(f'Los valores de Gamma y V_0 por este ajuste son:')\n",
    "print(f'Gamma: {-m}')\n",
    "print(f'V_0: {np.exp(b)}')"
   ]
  },
  {
   "cell_type": "markdown",
   "id": "45e4df2a",
   "metadata": {},
   "source": [
    "# Ejercicio 5"
   ]
  },
  {
   "cell_type": "code",
   "execution_count": 25,
   "id": "e4c97ae7",
   "metadata": {},
   "outputs": [
    {
     "data": {
      "image/png": "[encoded data removed]",
      "text/plain": [
       "<Figure size 432x288 with 1 Axes>"
      ]
     },
     "metadata": {
      "needs_background": "light"
     },
     "output_type": "display_data"
    }
   ],
   "source": [
    "import pandas as pd\n",
    "import numpy as np\n",
    "\n",
    "#Leemos el archivo\n",
    "data = pd.read_csv(r'C:\\Users\\cesar.avila\\Documents\\IPN\\Semestre 7\\Física Numérica\\Tareas\\Tarea6\\COBE.txt'\n",
    "                   ,header=0,delim_whitespace = True)\n",
    "\n",
    "# Extraccion de datos \n",
    "Nu = data.iloc[:,0]\n",
    "I = data.iloc[:,1]\n",
    "Error = data.iloc[:,2]\n",
    "\n",
    "# Manejo de los datos a flotantes\n",
    "nu_float = np.float64(Nu)\n",
    "I_float = np.float64(I)\n",
    "Error_float = np.float64(Error)/1000\n",
    "\n",
    "fig, ax = plt.subplots()\n",
    "ax.errorbar(nu_float, I_float, yerr=Error_float)\n",
    "ax.set_xlabel('$\\\\nu$ [1/cm]')\n",
    "ax.set_ylabel('$I(\\\\nu, T)$ [MJy/sr]')\n",
    "ax.set_title('Experimento COBE')\n",
    "ax.grid()\n",
    "plt.show()"
   ]
  },
  {
   "cell_type": "code",
   "execution_count": 26,
   "id": "630f6c14",
   "metadata": {},
   "outputs": [],
   "source": [
    "# Valores de las contantes (Usaremos unidades del SI)\n",
    "h = 6.6261E-34 # Cte de Planck en J*s \n",
    "c = 2.9979E8 # Vel. luz en m/s\n",
    "k =1.3806E-23 # Cte de Boltzmann en J/Kelvin\n",
    "\n",
    "#Transformamos los valores de la irradiancia y la frecuencia a unidades SI\n",
    "nu_SI = nu_float*2.9979E10\n",
    "I_SI = I_float*1E-20\n",
    "SigmaI_SI = Error_float*1E-20"
   ]
  },
  {
   "cell_type": "code",
   "execution_count": 27,
   "id": "3a7beefb",
   "metadata": {},
   "outputs": [],
   "source": [
    "#Guadamos los valores para el ajuste de recta en tres listas distintas\n",
    "logaritmos = []\n",
    "incertidumbre_ln = []\n",
    "eje_x = np.float64(h*nu_SI/k)\n",
    "\n",
    "for i in range(len(nu_SI)):\n",
    "    valor1 = np.log((2*h*nu_SI[i]**3)/(c**2 * I_SI[i]) +1 )\n",
    "    valor2 = (2*h*nu_SI[i]**3 / c**2 * I_SI[i]**2) *SigmaI_SI[i] / ((2*h*nu_SI[i]**3)/(c**2 * I_SI[i]) +1)\n",
    "    logaritmos.append(np.float64(valor1))\n",
    "    incertidumbre_ln.append(np.float64(valor2))"
   ]
  },
  {
   "cell_type": "code",
   "execution_count": 29,
   "id": "67fbfa94",
   "metadata": {},
   "outputs": [
    {
     "data": {
      "image/png": "[encoded data removed]",
      "text/plain": [
       "<Figure size 576x432 with 1 Axes>"
      ]
     },
     "metadata": {
      "needs_background": "light"
     },
     "output_type": "display_data"
    }
   ],
   "source": [
    "fig, ax = plt.subplots(figsize=(8, 6))\n",
    "ax.errorbar(eje_x, logaritmos, yerr=incertidumbre_ln) # Grafica la incertidumbre en cada punto\n",
    "ax.set_xlabel('$\\dfrac{h \\\\nu}{k}$ [K]')\n",
    "ax.set_ylabel('$ln (\\dfrac{2 h}{c^2} \\dfrac{\\\\nu^3}{I} + 1)$ [sr]')\n",
    "ax.set_title('Experimento COBE: Gráfico Logarítmico')\n",
    "ax.grid()\n",
    "plt.show()"
   ]
  },
  {
   "cell_type": "code",
   "execution_count": 30,
   "id": "0f0f9ad2",
   "metadata": {},
   "outputs": [],
   "source": [
    "# Obtengamos el ajuste por mínimos cuadrados\n",
    "S = 0.\n",
    "Sx = 0.\n",
    "Sy = 0.\n",
    "Sxx = 0.\n",
    "Sxy = 0.\n",
    "\n",
    "for i in range(len(logaritmos)):\n",
    "    S += 1/incertidumbre_ln[i]**2\n",
    "    Sx += eje_x[i]/incertidumbre_ln[i]**2\n",
    "    Sy += logaritmos[i]/incertidumbre_ln[i]**2\n",
    "    Sxx += eje_x[i]**2 / incertidumbre_ln[i]**2\n",
    "    Sxy += eje_x[i]*logaritmos[i] / incertidumbre_ln[i]**2"
   ]
  },
  {
   "cell_type": "code",
   "execution_count": 31,
   "id": "a12437ee",
   "metadata": {},
   "outputs": [
    {
     "name": "stdout",
     "output_type": "stream",
     "text": [
      "-0.6969042846340017 0.3915557263619007\n"
     ]
    }
   ],
   "source": [
    "# Solución al sistema de ecuaciones  \n",
    "matriz1 = np.array([[S, Sx],[Sx, Sxx]])\n",
    "matriz2 = np.array([[Sy], [Sxy]])\n",
    "\n",
    "inversa = np.linalg.inv(matriz1)\n",
    "resultado = inversa.dot(matriz2)\n",
    "\n",
    "a1, a2 = float(resultado[0]), float(resultado[1])\n",
    "print(a1, a2)"
   ]
  },
  {
   "cell_type": "code",
   "execution_count": 32,
   "id": "f2026ab4",
   "metadata": {},
   "outputs": [
    {
     "name": "stdout",
     "output_type": "stream",
     "text": [
      "La temperatura es: 2.553914890458622 K\n"
     ]
    }
   ],
   "source": [
    "print(f'La temperatura es: {1/a2} K')"
   ]
  },
  {
   "cell_type": "code",
   "execution_count": null,
   "id": "970623d4",
   "metadata": {},
   "outputs": [],
   "source": []
  }
 ],
 "metadata": {
  "kernelspec": {
   "display_name": "Python 3",
   "language": "python",
   "name": "python3"
  },
  "language_info": {
   "codemirror_mode": {
    "name": "ipython",
    "version": 3
   },
   "file_extension": ".py",
   "mimetype": "text/x-python",
   "name": "python",
   "nbconvert_exporter": "python",
   "pygments_lexer": "ipython3",
   "version": "3.8.8"
  }
 },
 "nbformat": 4,
 "nbformat_minor": 5
}
